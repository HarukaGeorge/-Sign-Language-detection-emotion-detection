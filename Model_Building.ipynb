{
 "cells": [
  {
   "cell_type": "markdown",
   "metadata": {},
   "source": [
    "# Sign Language Conversion to Text"
   ]
  },
  {
   "cell_type": "markdown",
   "metadata": {},
   "source": [
    "**Team: 13**\n",
    "Haruka George\n",
    "Deeksha Joshi\n",
    "\n",
    "**Course:** DAAN 570– Deep Learning (Spring I, 2022)\n",
    "\n",
    "### Problem Statement\n",
    "\n",
    "To use a deep learning model to convert American Sign Language (ASL) signed hand movements into text in order to minimize communication barriers with the hearing impaired and give a teaching aid for sign language. We will propose a solution that takes video input of the gestures, interpret each sequential frame in the input and provide an alphabet as output. The characters are joined to form a word (combination of letters) which are further combined to form a sentence. We have included the functionality of sentiment analysis by identifying the emotions of the current word to better understand the user’s opinion or attitude. \n",
    "\t\n",
    "\n",
    "### Data Collection\n",
    "\n",
    "We're creating our own dataset because our research is built on a vision-based approach that necessitates the use of raw images. The most generally available dataset for sign language problems is in RGB format, which is incompatible with our needs. As a result, we decided to gather our own data. To create our dataset, we used the Open Computer Vision (OpenCV) library. To begin, we took roughly 1000 photos of each symbol in ASL, then divided the images into train and test in the ratio of 750:250 after gaussian blur methods\n",
    "\n",
    "### Required packages\n",
    "\n",
    "For our project we need below packages, we can install it using pip install package_name if it is not present in local environment:\n",
    "1. tensorflow\n",
    "2. matplotlib\n",
    "3. keras\n",
    "4. os\n"
   ]
  },
  {
   "cell_type": "code",
   "execution_count": 1,
   "metadata": {},
   "outputs": [],
   "source": [
    "import tensorflow as tf\n",
    "from keras.preprocessing.image import ImageDataGenerator\n",
    "import os\n",
    "import matplotlib.pyplot as plt\n",
    "\n",
    "os.environ[\"CUDA_VISIBLE_DEVICES\"] = \"1\"\n",
    "\n",
    "#setting up the seed for result reprodusibility\n",
    "tf.random.set_seed(100)"
   ]
  },
  {
   "cell_type": "markdown",
   "metadata": {},
   "source": [
    "### Data Preprocessing\n",
    "\n",
    "We are applying image data augmentation techniques that can be used to artificially expand the size of a training dataset by creating modified versions of images in the dataset. Training deep learning neural network models on more data can result in more skilful models, and the augmentation techniques can create variations of the images that can improve the ability of the fit models to generalize what they have learned to new images.\n",
    "\n",
    "Here we are doing following steps in our data preprocessing:\n",
    "1. Rescale: rescaling our images by a factor of 1./255\n",
    "2. shear_range: shearing transformations by a factor of 0.2\n",
    "3. zoom_range: zooming by 0.2 inside pictures\n",
    "4. horizontal_flip: True- for randomly flipping half of the images horizontally\n",
    "\n",
    "Additionally, we are converting all the images to the target size (128 x 128) and setting the color mode to “grayscale”.  \n"
   ]
  },
  {
   "cell_type": "code",
   "execution_count": 2,
   "metadata": {},
   "outputs": [],
   "source": [
    "# Data Augmentation - Generating images for the training and test set\n",
    "\n",
    "train_datagen = ImageDataGenerator(rescale = 1./255,\n",
    "                                   shear_range = 0.2,\n",
    "                                   zoom_range = 0.2,\n",
    "                                   horizontal_flip = True)\n",
    "\n",
    "test_datagen = ImageDataGenerator(rescale = 1./255)"
   ]
  },
  {
   "cell_type": "code",
   "execution_count": 3,
   "metadata": {},
   "outputs": [
    {
     "name": "stdout",
     "output_type": "stream",
     "text": [
      "Found 19854 images belonging to 27 classes.\n",
      "Found 6777 images belonging to 27 classes.\n"
     ]
    }
   ],
   "source": [
    "# Generating Training and test set\n",
    "\n",
    "training_set = train_datagen.flow_from_directory('final_dataSet/trainingData',                                \n",
    "                                                 target_size = (128, 128),\n",
    "                                                 batch_size = 10,\n",
    "                                                 color_mode = 'grayscale',                                \n",
    "                                                 class_mode = 'categorical')\n",
    "\n",
    "test_set = test_datagen.flow_from_directory('final_dataSet/testingData',\n",
    "                                            target_size = (128, 128),                                  \n",
    "                                            batch_size = 10,        \n",
    "                                            color_mode = 'grayscale',\n",
    "                                            class_mode = 'categorical')"
   ]
  },
  {
   "cell_type": "markdown",
   "metadata": {},
   "source": [
    "#### Outcome: We converted all the images to a size of 128x128 and different variations of the images are formed using above techniques that will make our model more robust"
   ]
  },
  {
   "attachments": {},
   "cell_type": "markdown",
   "metadata": {},
   "source": [
    "### Methodology\n",
    "\n",
    "1. Explan your Deep Learning process / methodology\n",
    "\n",
    "    Convolutional Neural Networks (CNN) model is used for image classification here. CNN or ConvNet are complex feed forward neural networks. Because of its great accuracy, CNNs are employed for image categorization and identification. The CNN uses a hierarchical model that builds a network, similar to a funnel, and then outputs a fully-connected layer in which all neurons are linked to each other and the output is processed.\n",
    "\n",
    "\n",
    "2. Introduce the Deep Neural Networks you used in your project\n",
    " * Model 1\n",
    "   Single layers of Conv2D, MaxPooling, Flatten, Dense with dropout is taken as baseline model \n",
    " \n",
    " * Model 2\n",
    "   Three Conv2D Layers are used, with 16 filters each of 3x3 size for each layer with padding as “same”. \n",
    "   Three layers of MaxPooling is used with 16 filters each of 2x2 size for each layer with padding as “valid”. \n",
    "   Three Dense layers with 128, 96 and 64 neurons each, along with output Dense layer with 27 neurons. \n",
    "   Dropout of 0.4 is applied to first and second Dense layers. \n",
    "\n",
    "\n",
    "3. Keywords: supervised learning, sentiment analysis, multi-class classification,natural language processing\n",
    "\n"
   ]
  },
  {
   "cell_type": "markdown",
   "metadata": {},
   "source": [
    "## Baseline model (Model 1)"
   ]
  },
  {
   "cell_type": "code",
   "execution_count": 4,
   "metadata": {},
   "outputs": [],
   "source": [
    "# creating model and adding layers\n",
    "\n",
    "b_model = tf.keras.models.Sequential()\n",
    "\n",
    "b_model.add(tf.keras.layers.Conv2D(filters=32,\n",
    "                                     kernel_size=3, \n",
    "                                     padding=\"same\", \n",
    "                                     activation=\"relu\", \n",
    "                                     input_shape=[128, 128, 1]))\n",
    "\n",
    "b_model.add(tf.keras.layers.MaxPool2D(pool_size=2, \n",
    "                                         strides=2, \n",
    "                                         padding='valid'))\n",
    "\n",
    "\n",
    "# Flatten the output\n",
    "\n",
    "b_model.add(tf.keras.layers.Flatten())\n",
    "\n",
    "# Adding dense layer and dropout to avoid overfitting \n",
    "\n",
    "b_model.add(tf.keras.layers.Dense(units=128, activation='relu'))\n",
    "b_model.add(tf.keras.layers.Dropout(0.40))\n",
    "b_model.add(tf.keras.layers.Dense(units=27, activation='softmax')) "
   ]
  },
  {
   "cell_type": "code",
   "execution_count": 5,
   "metadata": {},
   "outputs": [
    {
     "name": "stdout",
     "output_type": "stream",
     "text": [
      "Model: \"sequential\"\n",
      "_________________________________________________________________\n",
      " Layer (type)                Output Shape              Param #   \n",
      "=================================================================\n",
      " conv2d (Conv2D)             (None, 128, 128, 32)      320       \n",
      "                                                                 \n",
      " max_pooling2d (MaxPooling2D  (None, 64, 64, 32)       0         \n",
      " )                                                               \n",
      "                                                                 \n",
      " flatten (Flatten)           (None, 131072)            0         \n",
      "                                                                 \n",
      " dense (Dense)               (None, 128)               16777344  \n",
      "                                                                 \n",
      " dropout (Dropout)           (None, 128)               0         \n",
      "                                                                 \n",
      " dense_1 (Dense)             (None, 27)                3483      \n",
      "                                                                 \n",
      "=================================================================\n",
      "Total params: 16,781,147\n",
      "Trainable params: 16,781,147\n",
      "Non-trainable params: 0\n",
      "_________________________________________________________________\n"
     ]
    }
   ],
   "source": [
    "b_model.compile(optimizer = 'adam', \n",
    "                   loss = 'categorical_crossentropy', \n",
    "                   metrics = ['accuracy'])\n",
    "\n",
    "b_model.summary()"
   ]
  },
  {
   "cell_type": "markdown",
   "metadata": {},
   "source": [
    "### Model Fitting and Validation (Model 1)"
   ]
  },
  {
   "cell_type": "code",
   "execution_count": 6,
   "metadata": {},
   "outputs": [
    {
     "name": "stdout",
     "output_type": "stream",
     "text": [
      "Epoch 1/10\n",
      "1986/1986 [==============================] - 458s 230ms/step - loss: 3.0964 - accuracy: 0.0987 - val_loss: 1.6168 - val_accuracy: 0.5687\n",
      "Epoch 2/10\n",
      "1986/1986 [==============================] - 348s 175ms/step - loss: 1.1126 - accuracy: 0.6394 - val_loss: 1.1554 - val_accuracy: 0.7648\n",
      "Epoch 3/10\n",
      "1986/1986 [==============================] - 342s 172ms/step - loss: 0.6005 - accuracy: 0.7995 - val_loss: 0.9958 - val_accuracy: 0.8358\n",
      "Epoch 4/10\n",
      "1986/1986 [==============================] - 341s 172ms/step - loss: 0.4210 - accuracy: 0.8588 - val_loss: 1.2512 - val_accuracy: 0.8254\n",
      "Epoch 5/10\n",
      "1986/1986 [==============================] - 342s 172ms/step - loss: 0.3119 - accuracy: 0.8970 - val_loss: 1.2463 - val_accuracy: 0.8635\n",
      "Epoch 6/10\n",
      "1986/1986 [==============================] - 339s 171ms/step - loss: 0.2569 - accuracy: 0.9132 - val_loss: 1.3576 - val_accuracy: 0.8704\n",
      "Epoch 7/10\n",
      "1986/1986 [==============================] - 345s 174ms/step - loss: 0.2035 - accuracy: 0.9332 - val_loss: 1.5269 - val_accuracy: 0.8634\n",
      "Epoch 8/10\n",
      "1986/1986 [==============================] - 4198s 2s/step - loss: 0.1797 - accuracy: 0.9395 - val_loss: 1.4919 - val_accuracy: 0.8817\n",
      "Epoch 9/10\n",
      "1986/1986 [==============================] - 341s 172ms/step - loss: 0.1670 - accuracy: 0.9456 - val_loss: 1.7674 - val_accuracy: 0.8597\n",
      "Epoch 10/10\n",
      "1986/1986 [==============================] - 307s 154ms/step - loss: 0.1456 - accuracy: 0.9511 - val_loss: 1.6679 - val_accuracy: 0.8576\n"
     ]
    }
   ],
   "source": [
    "history = b_model.fit(training_set,\n",
    "                  epochs = 10,\n",
    "                  validation_data = test_set,\n",
    "                  verbose = 1)"
   ]
  },
  {
   "cell_type": "code",
   "execution_count": 7,
   "metadata": {},
   "outputs": [
    {
     "data": {
      "image/png": "[encoded data removed]",
      "text/plain": [
       "<Figure size 432x288 with 1 Axes>"
      ]
     },
     "metadata": {
      "needs_background": "light"
     },
     "output_type": "display_data"
    },
    {
     "data": {
      "image/png": "[encoded data removed]",
      "text/plain": [
       "<Figure size 432x288 with 1 Axes>"
      ]
     },
     "metadata": {
      "needs_background": "light"
     },
     "output_type": "display_data"
    }
   ],
   "source": [
    "acc = history.history['accuracy']\n",
    "val_acc = history.history['val_accuracy']\n",
    "loss = history.history['loss']\n",
    "val_loss = history.history['val_loss']\n",
    "\n",
    "epochs = range(len(acc))\n",
    "\n",
    "plt.plot(epochs, acc, 'bo', label='Training acc')\n",
    "plt.plot(epochs, val_acc, 'b', label='Validation acc')\n",
    "plt.title('Training and validation accuracy')\n",
    "plt.legend()\n",
    "\n",
    "plt.ylabel('Accuracy')\n",
    "plt.xlabel('Number of epochs')\n",
    "plt.figure()\n",
    "\n",
    "plt.plot(epochs, loss, 'bo', label='Training loss')\n",
    "plt.plot(epochs, val_loss, 'b', label='Validation loss')\n",
    "plt.title('Training and validation loss')\n",
    "plt.legend()\n",
    "\n",
    "\n",
    "plt.ylabel('Loss')\n",
    "plt.xlabel('Number of epochs')\n",
    "plt.show()"
   ]
  },
  {
   "cell_type": "markdown",
   "metadata": {},
   "source": [
    "#### Interpretation: \n",
    "    The graph shows us that there is major overfitting which tells us this model has high variance which is evident through the training and validation loss plot. "
   ]
  },
  {
   "cell_type": "markdown",
   "metadata": {},
   "source": [
    "### Model Evaluation "
   ]
  },
  {
   "cell_type": "code",
   "execution_count": 8,
   "metadata": {},
   "outputs": [
    {
     "name": "stdout",
     "output_type": "stream",
     "text": [
      "50/50 [==============================] - 1s 26ms/step - loss: 1.9579 - accuracy: 0.8100\n",
      "test acc: 0.8100000023841858\n"
     ]
    }
   ],
   "source": [
    "test_loss, test_acc = b_model.evaluate(test_set, steps=50)\n",
    "print('test acc:', test_acc)"
   ]
  },
  {
   "cell_type": "markdown",
   "metadata": {},
   "source": [
    "#### Result:\n",
    "    The model give us an accuracy of 81% which is not satisfactory for our problem statement."
   ]
  },
  {
   "cell_type": "markdown",
   "metadata": {},
   "source": [
    "## Our model (Model 2)"
   ]
  },
  {
   "cell_type": "code",
   "execution_count": 9,
   "metadata": {},
   "outputs": [],
   "source": [
    "# creating model and adding layers\n",
    "\n",
    "model = tf.keras.models.Sequential()\n",
    "\n",
    "model.add(tf.keras.layers.Conv2D(filters=16,\n",
    "                                     kernel_size=3, \n",
    "                                     padding=\"same\", \n",
    "                                     activation=\"relu\", \n",
    "                                     input_shape=[128, 128, 1]))\n",
    "\n",
    "model.add(tf.keras.layers.MaxPool2D(pool_size=2, \n",
    "                                         strides=2, \n",
    "                                         padding='valid'))\n",
    "\n",
    "model.add(tf.keras.layers.Conv2D(filters=16, \n",
    "                                      kernel_size=3, \n",
    "                                      padding=\"same\", \n",
    "                                      activation=\"relu\"))\n",
    "\n",
    "model.add(tf.keras.layers.MaxPool2D(pool_size=2, \n",
    "                                         strides=2, \n",
    "                                         padding='valid'))\n",
    "\n",
    "model.add(tf.keras.layers.Conv2D(filters=16, \n",
    "                                      kernel_size=3, \n",
    "                                      padding=\"same\", \n",
    "                                      activation=\"relu\"))\n",
    "\n",
    "model.add(tf.keras.layers.MaxPool2D(pool_size=2, \n",
    "                                         strides=2, \n",
    "                                         padding='valid'))\n",
    "\n",
    "# Flatten the output\n",
    "\n",
    "model.add(tf.keras.layers.Flatten())\n",
    "\n",
    "# Adding dense layer and dropout to avoid overfitting \n",
    "\n",
    "model.add(tf.keras.layers.Dense(units=128, \n",
    "                                     activation='relu'))\n",
    "model.add(tf.keras.layers.Dropout(0.40))\n",
    "model.add(tf.keras.layers.Dense(units=96, activation='relu'))\n",
    "model.add(tf.keras.layers.Dropout(0.40))\n",
    "model.add(tf.keras.layers.Dense(units=64, activation='relu'))\n",
    "model.add(tf.keras.layers.Dense(units=27, activation='softmax')) "
   ]
  },
  {
   "cell_type": "code",
   "execution_count": 10,
   "metadata": {},
   "outputs": [
    {
     "name": "stdout",
     "output_type": "stream",
     "text": [
      "Model: \"sequential_1\"\n",
      "_________________________________________________________________\n",
      " Layer (type)                Output Shape              Param #   \n",
      "=================================================================\n",
      " conv2d_1 (Conv2D)           (None, 128, 128, 16)      160       \n",
      "                                                                 \n",
      " max_pooling2d_1 (MaxPooling  (None, 64, 64, 16)       0         \n",
      " 2D)                                                             \n",
      "                                                                 \n",
      " conv2d_2 (Conv2D)           (None, 64, 64, 16)        2320      \n",
      "                                                                 \n",
      " max_pooling2d_2 (MaxPooling  (None, 32, 32, 16)       0         \n",
      " 2D)                                                             \n",
      "                                                                 \n",
      " conv2d_3 (Conv2D)           (None, 32, 32, 16)        2320      \n",
      "                                                                 \n",
      " max_pooling2d_3 (MaxPooling  (None, 16, 16, 16)       0         \n",
      " 2D)                                                             \n",
      "                                                                 \n",
      " flatten_1 (Flatten)         (None, 4096)              0         \n",
      "                                                                 \n",
      " dense_2 (Dense)             (None, 128)               524416    \n",
      "                                                                 \n",
      " dropout_1 (Dropout)         (None, 128)               0         \n",
      "                                                                 \n",
      " dense_3 (Dense)             (None, 96)                12384     \n",
      "                                                                 \n",
      " dropout_2 (Dropout)         (None, 96)                0         \n",
      "                                                                 \n",
      " dense_4 (Dense)             (None, 64)                6208      \n",
      "                                                                 \n",
      " dense_5 (Dense)             (None, 27)                1755      \n",
      "                                                                 \n",
      "=================================================================\n",
      "Total params: 549,563\n",
      "Trainable params: 549,563\n",
      "Non-trainable params: 0\n",
      "_________________________________________________________________\n"
     ]
    }
   ],
   "source": [
    "model.compile(optimizer = 'adam', \n",
    "                   loss = 'categorical_crossentropy', \n",
    "                   metrics = ['accuracy'])\n",
    "\n",
    "model.summary()"
   ]
  },
  {
   "cell_type": "markdown",
   "metadata": {},
   "source": [
    "### Model Fitting and Validation (Model 2)"
   ]
  },
  {
   "cell_type": "code",
   "execution_count": 11,
   "metadata": {},
   "outputs": [
    {
     "name": "stdout",
     "output_type": "stream",
     "text": [
      "Epoch 1/10\n",
      "1986/1986 [==============================] - 170s 85ms/step - loss: 1.5258 - accuracy: 0.5177 - val_loss: 0.5956 - val_accuracy: 0.8558\n",
      "Epoch 2/10\n",
      "1986/1986 [==============================] - 183s 92ms/step - loss: 0.5090 - accuracy: 0.8288 - val_loss: 0.5189 - val_accuracy: 0.9044\n",
      "Epoch 3/10\n",
      "1986/1986 [==============================] - 166s 83ms/step - loss: 0.3253 - accuracy: 0.8935 - val_loss: 0.4318 - val_accuracy: 0.9284\n",
      "Epoch 4/10\n",
      "1986/1986 [==============================] - 164s 83ms/step - loss: 0.2321 - accuracy: 0.9239 - val_loss: 0.5193 - val_accuracy: 0.9245\n",
      "Epoch 5/10\n",
      "1986/1986 [==============================] - 376s 190ms/step - loss: 0.2013 - accuracy: 0.9355 - val_loss: 0.4786 - val_accuracy: 0.9125\n",
      "Epoch 6/10\n",
      "1986/1986 [==============================] - 200s 101ms/step - loss: 0.1594 - accuracy: 0.9487 - val_loss: 0.3765 - val_accuracy: 0.9374\n",
      "Epoch 7/10\n",
      "1986/1986 [==============================] - 192s 97ms/step - loss: 0.1492 - accuracy: 0.9532 - val_loss: 0.4821 - val_accuracy: 0.9345\n",
      "Epoch 8/10\n",
      "1986/1986 [==============================] - 197s 99ms/step - loss: 0.1353 - accuracy: 0.9602 - val_loss: 0.3653 - val_accuracy: 0.9222\n",
      "Epoch 9/10\n",
      "1986/1986 [==============================] - 280s 141ms/step - loss: 0.1166 - accuracy: 0.9638 - val_loss: 0.3458 - val_accuracy: 0.9370\n",
      "Epoch 10/10\n",
      "1986/1986 [==============================] - 176s 89ms/step - loss: 0.1101 - accuracy: 0.9675 - val_loss: 0.3137 - val_accuracy: 0.9374\n"
     ]
    }
   ],
   "source": [
    "history = model.fit(training_set,\n",
    "                  epochs = 10,\n",
    "                  validation_data = test_set,\n",
    "                  verbose = 1)"
   ]
  },
  {
   "cell_type": "code",
   "execution_count": 12,
   "metadata": {},
   "outputs": [
    {
     "data": {
      "image/png": "[encoded data removed]",
      "text/plain": [
       "<Figure size 432x288 with 1 Axes>"
      ]
     },
     "metadata": {
      "needs_background": "light"
     },
     "output_type": "display_data"
    },
    {
     "data": {
      "image/png": "[encoded data removed]",
      "text/plain": [
       "<Figure size 432x288 with 1 Axes>"
      ]
     },
     "metadata": {
      "needs_background": "light"
     },
     "output_type": "display_data"
    }
   ],
   "source": [
    "acc = history.history['accuracy']\n",
    "val_acc = history.history['val_accuracy']\n",
    "loss = history.history['loss']\n",
    "val_loss = history.history['val_loss']\n",
    "\n",
    "epochs = range(len(acc))\n",
    "\n",
    "plt.plot(epochs, acc, 'bo', label='Training acc')\n",
    "plt.plot(epochs, val_acc, 'b', label='Validation acc')\n",
    "plt.title('Training and validation accuracy')\n",
    "plt.legend()\n",
    "\n",
    "plt.ylabel('Accuracy')\n",
    "plt.xlabel('Number of epochs')\n",
    "plt.figure()\n",
    "\n",
    "plt.plot(epochs, loss, 'bo', label='Training loss')\n",
    "plt.plot(epochs, val_loss, 'b', label='Validation loss')\n",
    "plt.title('Training and validation loss')\n",
    "plt.legend()\n",
    "\n",
    "\n",
    "plt.ylabel('Loss')\n",
    "plt.xlabel('Number of epochs')\n",
    "plt.show()"
   ]
  },
  {
   "cell_type": "markdown",
   "metadata": {},
   "source": [
    "#### Interpretations of plots:\n",
    "    The graph shows us that there is not major overfitting or underfitting which tells us our model does not have high variance or bias. "
   ]
  },
  {
   "cell_type": "markdown",
   "metadata": {},
   "source": [
    "### Model Evaluation "
   ]
  },
  {
   "cell_type": "code",
   "execution_count": 13,
   "metadata": {},
   "outputs": [
    {
     "name": "stdout",
     "output_type": "stream",
     "text": [
      "50/50 [==============================] - 1s 16ms/step - loss: 0.3217 - accuracy: 0.9380\n",
      "test acc: 0.9380000233650208\n"
     ]
    }
   ],
   "source": [
    "test_loss, test_acc = model.evaluate(test_set, steps=50)\n",
    "print('test acc:', test_acc)"
   ]
  },
  {
   "cell_type": "markdown",
   "metadata": {},
   "source": [
    "#### Result:\n",
    "    We have achieved an accuracy of almost 94%  on the test data using our model which gives us a good performing model"
   ]
  },
  {
   "cell_type": "markdown",
   "metadata": {},
   "source": [
    "### Saving model:\n",
    "We are saving our model architecture and weights into json and h5 file format respectively for convenient usage in our final application."
   ]
  },
  {
   "cell_type": "code",
   "execution_count": 14,
   "metadata": {},
   "outputs": [
    {
     "name": "stdout",
     "output_type": "stream",
     "text": [
      "Model Saved\n",
      "Weights saved\n"
     ]
    }
   ],
   "source": [
    "model_json = model.to_json()\n",
    "with open(\"model_file.json\", \"w\") as json_file:\n",
    "    json_file.write(model_json)\n",
    "print('Model Saved')\n",
    "model.save_weights('model_wt.h5')\n",
    "print('Weights saved')"
   ]
  },
  {
   "attachments": {},
   "cell_type": "markdown",
   "metadata": {},
   "source": [
    "### Issues / Improvements\n",
    "\n",
    "**ISSUES:\n",
    "\n",
    "1. There are no large, general data sets available that could aid in the development of generic, more accurate statistical or neural machine translation models for natural to sign language translation\n",
    "2. There are numerous sign languages, each with a large range of signs that varies somewhat in hand shape, motion, and position.\n",
    "3. The current mechanisms used to translate sign language words require large sets of additional data for each extra word it can identify\n",
    "4. The transmission of sign language presents extra obstacles. The existence of quick motion and the need for smooth motion perception are both depicted in the video depicting a sequence of indicators\n",
    "\n",
    "**IMPROVEMENTS:\n",
    "\n",
    "1. The model can be enhanced by adding the functionality of predicting the sentiment for entire sentences, it is one of the future scopes of the project\n",
    "2. Furthermore, even in the case of complex backgrounds, greater accuracy can be attained by experimenting with different background subtraction techniques\n",
    "3. For the model, a web or mobile application can be developed so that it is easily accessible regardless of device type or location\n",
    "\n",
    "###  References\n",
    "\n",
    "1.\tAdaloglou, Nikolaos M., et al. \"A comprehensive study on deep learning-based methods for sign language recognition.\" IEEE Transactions on Multimedia (2021).\n",
    "2.\tKonstantinidis, Dimitrios, Kosmas Dimitropoulos, and Petros Daras. \"A deep learning approach for analyzing video and skeletal features in sign language recognition.\" 2018 IEEE international conference on imaging systems and techniques (IST). IEEE, 2018.\n",
    "3.\tOjha, Ankit, et al. \"Sign language to text and speech translation in real time using convolutional neural network.\" NCAIT 8.15 (2020).\n",
    "4.\tA. Sharma, S. Panda and S. Verma, \"Sign Language to Speech Translation,\" 2020 11th International Conference on Computing, Communication and Networking Technologies (ICCCNT), 2020, pp. 1-8, doi: 10.1109/ICCCNT49239.2020.9225422.\n",
    "5.\tL. Fernandes, P. Dalvi, A. Junnarkar and M. Bansode, \"Convolutional Neural Network based Bidirectional Sign Language Translation System,\" 2020 Third International Conference on Smart Systems and Inventive Technology (ICSSIT), 2020, pp. 769-775, doi: 10.1109/ICSSIT48917.2020.9214272.\n",
    "6.\tK. Bantupalli and Y. Xie, \"American Sign Language Recognition using Deep Learning and Computer Vision,\" 2018 IEEE International Conference on Big Data (Big Data), 2018, pp. 4896-4899, doi: 10.1109/BigData.2018.8622141.\n",
    "\n",
    "\t\n",
    "\n",
    "### Credits\n",
    "\n",
    "-\thttps://github.com/harshbg/Sign-Language-Interpreter-using-Deep-Learning\n",
    "-\thttps://github.com/alvinwan/sign-language-translator\n"
   ]
  },
  {
   "cell_type": "code",
   "execution_count": null,
   "metadata": {},
   "outputs": [],
   "source": []
  }
 ],
 "metadata": {
  "kernelspec": {
   "display_name": "Python 3 (ipykernel)",
   "language": "python",
   "name": "python3"
  },
  "language_info": {
   "codemirror_mode": {
    "name": "ipython",
    "version": 3
   },
   "file_extension": ".py",
   "mimetype": "text/x-python",
   "name": "python",
   "nbconvert_exporter": "python",
   "pygments_lexer": "ipython3",
   "version": "3.8.12"
  }
 },
 "nbformat": 4,
 "nbformat_minor": 2
}
